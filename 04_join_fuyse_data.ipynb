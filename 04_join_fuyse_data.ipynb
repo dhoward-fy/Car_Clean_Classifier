{
 "cells": [
  {
   "cell_type": "code",
   "execution_count": 64,
   "metadata": {},
   "outputs": [],
   "source": [
    "import json\n",
    "import re\n",
    "import os\n",
    "import snowflake.connector\n",
    "import pandas as pd\n",
    "import dtlpy as dataloop"
   ]
  },
  {
   "cell_type": "code",
   "execution_count": 2,
   "metadata": {},
   "outputs": [
    {
     "data": {
      "text/plain": [
       "True"
      ]
     },
     "execution_count": 2,
     "metadata": {},
     "output_type": "execute_result"
    }
   ],
   "source": [
    "from dotenv import load_dotenv\n",
    "load_dotenv()"
   ]
  },
  {
   "cell_type": "code",
   "execution_count": 3,
   "metadata": {},
   "outputs": [
    {
     "name": "stdout",
     "output_type": "stream",
     "text": [
      "Initiating login request with your identity provider. A browser window should have opened for you to complete the login. If you can't see it, check existing browser windows, or your OS settings. Press CTRL+C to abort and try again...\n",
      "Going to open: https://coxauto.okta.com/app/snowflake/exk1h5nt7snJPsOQP0h8/sso/saml?SAMLRequest=lZLRbtowFIZfJfKuEzuhdMUCqgyGmqkrKSS92J2bHMAisVMfh9C3nwll6i5aqXeR8%2F32Z%2F9nfHusK%2B8ABqVWExIGjHigCl1KtZ2QPFv4N8RDK1QpKq1gQl4Bye10jKKuGh63dqdW8NICWs9tpJD3PyakNYprgRK5EjUgtwVfx7%2FveRQw3hhtdaEr8i7yeUIggrHO8BIpUTq9nbUNp7TruqAbBNpsacQYo2xEHXVCvl34o7vTB3xI2dWJd4TD0ze3H1Kdn%2BAzreczhPwuy1I%2FXa4z4sUX1ZlW2NZg1mAOsoB8dX8WQGcwi5OgRR8EWj8MUOluU4k9FLpuWut2DNwX3UBJK72V7tLJfEKavSzL9tA922O5yYv85%2Fbu4aUbhovHVaayJL%2FW86vrxmwga5bZCAviPV1ajU6tJogtJOrUpXVLLBr4YeSzYRaO%2BIDxKAxGg%2BgP8eauS6mE7ZMX4UIfRWt1oPdW9HKiaeg%2FbwrHfbgbKvsd1a8Ul48p291QRE1P1ZLztPBewEy%2F8gZj%2Bj75NnQProdknupKFq%2FeQpta2I9rCoOwX5Glv%2BlRDrWQVVyWBhBdXVWlu5kBYd1sW9MCodPzqf9P9%2FQv&RelayState=53713 to authenticate...\n"
     ]
    }
   ],
   "source": [
    "snowflake_conn = snowflake.connector.connect(\n",
    "                user=os.environ['SNOW_USER'],\n",
    "                password=os.environ['SNOW_PASSWORD'],\n",
    "                account='cai.us-east-1',\n",
    "                role='SNOWFLAKE_CA_DATA_SCIENCE_RISK',\n",
    "                warehouse='WHS_CA_DATA_SCIENCE_INTERMEDIATE',\n",
    "                authenticator='externalbrowser',\n",
    "            )"
   ]
  },
  {
   "cell_type": "code",
   "execution_count": 4,
   "metadata": {},
   "outputs": [],
   "source": [
    "fyuse_data_file =  './fyuse_data/exterior_clean_20230401_20230301.json'"
   ]
  },
  {
   "cell_type": "code",
   "execution_count": 46,
   "metadata": {},
   "outputs": [],
   "source": [
    "work_order_nums = set()\n",
    "transaction_records = []"
   ]
  },
  {
   "cell_type": "code",
   "execution_count": 47,
   "metadata": {},
   "outputs": [],
   "source": [
    "additional_info = ['mirrored_finish', 'reflections', 'vehicle_surface', 'light_conditions', 'weather_conditions']"
   ]
  },
  {
   "cell_type": "code",
   "execution_count": 48,
   "metadata": {},
   "outputs": [],
   "source": [
    "with open(fyuse_data_file) as fyuse_file:\n",
    "    json_data = json.load(fyuse_file)"
   ]
  },
  {
   "cell_type": "code",
   "execution_count": 49,
   "metadata": {},
   "outputs": [],
   "source": [
    "for single_record in json_data[\"hits\"]['hits']:\n",
    "    image_date = single_record['_source']['timestamp'][0:10]\n",
    "    image_work_order = single_record['_source']['work_order']\n",
    "    image_car_type = single_record['_source']['car_type']\n",
    "\n",
    "    sql_query = (\n",
    "        f\" SELECT \"\n",
    "        f\"  WORK_ORDER_NUM, \"\n",
    "        f\"  VIN, \"\n",
    "        f\"  AUCTION_CD, \"\n",
    "        f\"  OFFRNG_REG_DT, \"\n",
    "        f\"  CA_VEHICLE_YEAR, \"\n",
    "        f\"  CA_VEHICLE_MAKE, \"\n",
    "        f\"  CA_VEHICLE_MODEL, \"\n",
    "        f\"  CA_VEHICLE_TRIM, \"\n",
    "        f\"  CA_VEHICLE_STYLE_ID, \"\n",
    "        f\"  CA_VEHICLE_COLOR_EXT, \"\n",
    "        f\"  SRC_CLEANSED_COLOR_EXT, \"\n",
    "        f\"  CA_VEHICLE_BODY_STYLE, \"\n",
    "        f\"  CA_VEHICLE_CHASSIS_TYPE, \"\n",
    "        f\"  CA_VEHICLE_CLASSIFICATION, \"\n",
    "        f\"  CONDITION_VALUE, \"\n",
    "        f\"  CONDITION_SCORE, \"\n",
    "        f\"  MILEAGE, \" \n",
    "        f\"  ADJ_NATIONAL_MMR_AT_SALE \"   \n",
    "        f\" from dp.cads_unified_transactions.unified_transactions \"\n",
    "        f\"  WHERE WORK_ORDER_NUM = {image_work_order} \"\n",
    "        f\"    AND OFFRNG_REG_DT between dateadd(day, -19, to_date('{image_date}')) and \"\n",
    "        f\"        dateadd(day, 60, to_date('{image_date}')) \"\n",
    "        f\"  order by ABS(DATEDIFF(day, to_date('{image_date}'), OFFRNG_REG_DT)) ASC\"  \n",
    "    )\n",
    "\n",
    "    cur = snowflake_conn.cursor()\n",
    "    transaction_data = cur.execute(sql_query)\n",
    "\n",
    "    transaction_df = transaction_data.fetch_pandas_all()\n",
    "\n",
    "    for col in additional_info:\n",
    "        transaction_df[col] = single_record['_source'][col]\n",
    "\n",
    "    transaction_df['image_id'] = single_record['_id']\n",
    "    transaction_df['image_date'] = image_date\n",
    "    transaction_df['date_diff'] = pd.to_datetime(transaction_df['OFFRNG_REG_DT']) - pd.to_datetime(transaction_df['image_date'])\n",
    "\n",
    "    transaction_dict = transaction_df.to_dict(orient='records')\n",
    "\n",
    "    if image_work_order not in work_order_nums:\n",
    "        try:\n",
    "            for row in transaction_dict:\n",
    "                transaction_records.append(row)\n",
    "        except IndexError:\n",
    "            pass\n",
    "\n",
    "    work_order_nums.add(image_work_order)\n",
    "    \n",
    "transaction_records_df = pd.DataFrame.from_dict(transaction_records)\n",
    "\n",
    "transaction_records_df['abs_date_diff'] = transaction_records_df['date_diff'].apply(lambda x: abs(int(x.days)))\n",
    "transaction_records_sorted = transaction_records_df.sort_values(by=['WORK_ORDER_NUM', 'abs_date_diff'])\n",
    "transaction_records_dedup = transaction_records_sorted.drop_duplicates(subset='WORK_ORDER_NUM', keep='first')"
   ]
  },
  {
   "cell_type": "code",
   "execution_count": 60,
   "metadata": {},
   "outputs": [],
   "source": [
    "missing_work_orders = work_order_nums.difference(list(transaction_records_dedup['WORK_ORDER_NUM']))"
   ]
  },
  {
   "cell_type": "code",
   "execution_count": 66,
   "metadata": {},
   "outputs": [
    {
     "name": "stdout",
     "output_type": "stream",
     "text": [
      "Iterate Pages: 100%|██████████| 66/66 [00:48<00:00,  1.35it/s]\n"
     ]
    }
   ],
   "source": [
    "dataloop.login_m2m(email=os.environ['DATALOOP_USER'], password=os.environ['DATALOOP_PASSWORD'])\n",
    "proj = dataloop.projects.get(\"Car Condition Classification\")\n",
    "dataset = proj.datasets.get(\"all_portrait\")\n",
    "\n",
    "all_names = {}\n",
    "\n",
    "# Get one image from each vehicle at random\n",
    "pages = dataset.items.list()\n",
    "for page in pages:\n",
    "    for item in page:\n",
    "        all_names[item.id] = item.name\n",
    "\n",
    "all_names_swap = {v: k for k, v in all_names.items()}"
   ]
  },
  {
   "cell_type": "code",
   "execution_count": 92,
   "metadata": {},
   "outputs": [],
   "source": [
    "for i in range(len(transaction_records_dedup)):\n",
    "    vehicle_image_id = transaction_records_dedup['image_id'].iloc[i]\n",
    "    \n",
    "    single_vehicle_ids = []\n",
    "    for key in all_names_swap:\n",
    "        if re.match(vehicle_image_id, key):\n",
    "            single_vehicle_ids.append(all_names_swap[key])\n",
    "    \n",
    "    for image in single_vehicle_ids:\n",
    "        item = dataset.items.get(item_id=image)\n",
    "        item.metadata['user']  = dict()\n",
    "   \n",
    "        for col in list(transaction_records_dedup.columns):\n",
    "            val = str(transaction_records_dedup[col][transaction_records_dedup['image_id']==vehicle_image_id].to_list()[0])\n",
    "            item.metadata['user'][col] = val\n",
    "        item.update() "
   ]
  },
  {
   "cell_type": "code",
   "execution_count": 93,
   "metadata": {},
   "outputs": [
    {
     "data": {
      "text/plain": [
       "Item(dataset_url='https://gate.dataloop.ai/api/v1/datasets/65552b994f2e91b053fdd998', created_at='2023-11-15T20:37:04.298Z', updated_at='2023-11-15T20:38:46.587Z', updated_by='rubiks@dataloop.ai', dataset_id='65552b994f2e91b053fdd998', filename='/aMdaOYcBUMhyNhiEEWEs_9.jpg', name='aMdaOYcBUMhyNhiEEWEs_9.jpg', type='file', id='65552c56edffcc8a6907f639', spec=None, creator='ashley.lawrencehuizenga@coxautoinc.com', _description=None, annotations_count=1)"
      ]
     },
     "execution_count": 93,
     "metadata": {},
     "output_type": "execute_result"
    }
   ],
   "source": [
    "item"
   ]
  },
  {
   "cell_type": "code",
   "execution_count": null,
   "metadata": {},
   "outputs": [],
   "source": []
  }
 ],
 "metadata": {
  "kernelspec": {
   "display_name": "car_condition",
   "language": "python",
   "name": "python3"
  },
  "language_info": {
   "codemirror_mode": {
    "name": "ipython",
    "version": 3
   },
   "file_extension": ".py",
   "mimetype": "text/x-python",
   "name": "python",
   "nbconvert_exporter": "python",
   "pygments_lexer": "ipython3",
   "version": "3.9.13"
  }
 },
 "nbformat": 4,
 "nbformat_minor": 2
}
