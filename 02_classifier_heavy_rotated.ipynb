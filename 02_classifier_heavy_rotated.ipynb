{
 "cells": [
  {
   "cell_type": "markdown",
   "metadata": {},
   "source": [
    "## Training Classifier on Heavy Dirt and Clean Images"
   ]
  },
  {
   "cell_type": "code",
   "execution_count": 3,
   "metadata": {},
   "outputs": [],
   "source": [
    "import wandb\n",
    "import pytorch_lightning as pl\n",
    "from pytorch_lightning.loggers import WandbLogger\n",
    "\n",
    "from sys import platform\n",
    "\n",
    "# Resnet is Resnet 18 (18 Residual SKip Blocks, vs 50)\n",
    "from models.resnet import ResNet, ResNet50\n",
    "\n",
    "# These libraries hold dataset information\n",
    "from dataset import DataloopDataset,DataloopDatasetClean,NonDataloopDatasetSubset\n",
    "\n",
    "# This is the Trainer Library\n",
    "from training_wheels import TrainingWheels\n",
    "\n",
    "# Library that allows for to alter \"raw\" images. Allows for random rotation, flipping, and adding \"noise\"\n",
    "from augmentation import Augmentation\n",
    "\n",
    "from datetime import datetime\n",
    "from PIL import Image\n",
    "import matplotlib.pyplot as plt\n",
    "\n",
    "from argparse import ArgumentParser\n",
    "import os"
   ]
  },
  {
   "cell_type": "code",
   "execution_count": 4,
   "metadata": {},
   "outputs": [],
   "source": [
    "hparams = {\n",
    "    'dataset_dir':\"dataloop\",\n",
    "    'model':\"resnet18\",\n",
    "    'use_wandb':True,\n",
    "    'enable_random_cropping':False,\n",
    "    'batch_size':2,\n",
    "    'num_gpus':1,\n",
    "    'downscaling_width':1224,\n",
    "    'downscaling_height':1632,\n",
    "    'max_epochs':4,\n",
    "    'accelerator':None,\n",
    "    'devices':None,\n",
    "    'use_dali':False,\n",
    "    'center_crop':448,\n",
    "    'enable_vertical_mirroring':False,\n",
    "    'enable_horizontal_mirroring':True,\n",
    "    'random_rotation_angle':15,\n",
    "    'noise_amount':0,\n",
    "    'resume_from_checkpoint':None,\n",
    "    'enable_image_logging':True,\n",
    "    'lr':0.0001\n",
    "}"
   ]
  },
  {
   "cell_type": "code",
   "execution_count": 5,
   "metadata": {},
   "outputs": [],
   "source": [
    "# datetime object containing current date and time\n",
    "now = datetime.now()\n",
    "dt_string = now.strftime(\"%m/%d/%Y %H:%M\")"
   ]
  },
  {
   "cell_type": "code",
   "execution_count": 6,
   "metadata": {},
   "outputs": [],
   "source": [
    "dataset_dir = hparams['dataset_dir']\n",
    "\n",
    "# This loads the augmentation object (see the keywords and how they are used inside )\n",
    "augmentation = Augmentation(enable_random_cropping=hparams['enable_random_cropping'],\n",
    "                            enable_vertical_mirroring=hparams['enable_vertical_mirroring'],\n",
    "                            enable_horizontal_mirroring=hparams['enable_horizontal_mirroring'],\n",
    "                            random_rotation_angle=hparams['random_rotation_angle'],\n",
    "                            noise_amount=hparams['noise_amount'],\n",
    "                            downscaling_width=hparams['downscaling_width'],\n",
    "                            downscaling_height=hparams['downscaling_height'])"
   ]
  },
  {
   "cell_type": "code",
   "execution_count": 7,
   "metadata": {},
   "outputs": [],
   "source": [
    "dataset = DataloopDataset(dataset_dir=dataset_dir,\n",
    "                          train=True,\n",
    "                          augmentation=augmentation)"
   ]
  },
  {
   "cell_type": "code",
   "execution_count": null,
   "metadata": {},
   "outputs": [],
   "source": [
    "batch_size = hparams['batch_size']\n",
    "logger = WandbLogger(project=\"car-condition-classifier\",log_model='all',name=dt_string) if hparams['use_wandb'] else None\n",
    "if hparams['model'] == \"efficientnet\":\n",
    "    model = EfficientNetV2()\n",
    "elif hparams['model'] == \"resnet18\":\n",
    "    model = ResNet()\n",
    "elif hparams['model'] == \"resnet50\":\n",
    "    model = ResNet50()\n",
    "else:\n",
    "    assert False, \"Unknown model: {}\".format(hparams['model'])\n",
    "accelerator = \"gpu\" if hparams['num_gpus'] > 0 else None"
   ]
  },
  {
   "cell_type": "code",
   "execution_count": null,
   "metadata": {},
   "outputs": [],
   "source": [
    "if hparams['use_dali']:\n",
    "    training_wheels = TrainingWheelsDALI(model=model,\n",
    "                                         dataset=dataset,\n",
    "                                         batch_size=batch_size,\n",
    "                                         lr=hparams['lr'])\n",
    "    if 'PL_TRAINER_GPUS' in os.environ:\n",
    "        os.environ.pop('PL_TRAINER_GPUS')\n",
    "    trainer = pl.Trainer(max_epochs=int(hparams['max_epochs']), logger=logger, accelerator=accelerator,\n",
    "                         devices=max(hparams['num_gpus'], 1))\n",
    "else:\n",
    "    training_wheels = TrainingWheels(model=model,\n",
    "                                     dataset=dataset,\n",
    "                                     batch_size=batch_size,\n",
    "                                     augmentation=augmentation,\n",
    "                                     lr=hparams['lr'],\n",
    "                                     enable_image_logging=hparams['enable_image_logging'],\n",
    "                                     validation_set_size=0.2)\n",
    "    trainer = pl.Trainer(max_epochs=int(hparams['max_epochs']), logger=logger, accelerator=accelerator,\n",
    "                         devices=max(hparams['num_gpus'], 1))"
   ]
  },
  {
   "cell_type": "code",
   "execution_count": null,
   "metadata": {},
   "outputs": [],
   "source": [
    "trainer.fit(training_wheels, ckpt_path=hparams['resume_from_checkpoint'])"
   ]
  }
 ],
 "metadata": {
  "kernelspec": {
   "display_name": "car_condition",
   "language": "python",
   "name": "python3"
  },
  "language_info": {
   "codemirror_mode": {
    "name": "ipython",
    "version": 3
   },
   "file_extension": ".py",
   "mimetype": "text/x-python",
   "name": "python",
   "nbconvert_exporter": "python",
   "pygments_lexer": "ipython3",
   "version": "3.9.13"
  },
  "orig_nbformat": 4
 },
 "nbformat": 4,
 "nbformat_minor": 2
}
