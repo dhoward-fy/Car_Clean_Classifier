{
 "cells": [
  {
   "cell_type": "code",
   "execution_count": 1,
   "metadata": {},
   "outputs": [],
   "source": [
    "import json\n",
    "import argparse\n",
    "from pathlib import Path\n",
    "import os.path\n",
    "import dtlpy as dataloop\n",
    "import subprocess"
   ]
  },
  {
   "cell_type": "code",
   "execution_count": 7,
   "metadata": {},
   "outputs": [],
   "source": [
    "data_info = {\n",
    "    'project': \"Car Condition Classification\",\n",
    "    'dataset': \"360 Portrait\",\n",
    "    'email': \"ashley.lawrencehuizenga@coxautoinc.com\",\n",
    "    'out_dir': \"dataloop/\",\n",
    "    'password': \"\"\n",
    "}"
   ]
  },
  {
   "cell_type": "code",
   "execution_count": 3,
   "metadata": {},
   "outputs": [
    {
     "data": {
      "text/plain": [
       "True"
      ]
     },
     "execution_count": 3,
     "metadata": {},
     "output_type": "execute_result"
    }
   ],
   "source": [
    "dataloop.login_m2m(email=data_info['email'], password=data_info['password'])"
   ]
  },
  {
   "cell_type": "code",
   "execution_count": 8,
   "metadata": {},
   "outputs": [],
   "source": [
    "proj = dataloop.projects.get(data_info['project'])"
   ]
  },
  {
   "cell_type": "code",
   "execution_count": 9,
   "metadata": {},
   "outputs": [],
   "source": [
    "dataset = proj.datasets.get(data_info['dataset'])"
   ]
  },
  {
   "cell_type": "code",
   "execution_count": 10,
   "metadata": {},
   "outputs": [
    {
     "name": "stdout",
     "output_type": "stream",
     "text": [
      "Iterate Pages: 100%|██████████| 3/3 [00:03<00:00,  1.03s/it]it/s]\n",
      "Download Items: 100%|██████████| 2421/2421 [01:10<00:00, 34.55it/s]\n",
      "Command Progress: 100%|██████████| 100/100 [00:22<00:00,  4.39it/s]\n",
      "Download Items: 100%|██████████| 1/1 [00:00<00:00,  1.90it/s]\n"
     ]
    },
    {
     "data": {
      "text/plain": [
       "'dataloop/'"
      ]
     },
     "execution_count": 10,
     "metadata": {},
     "output_type": "execute_result"
    }
   ],
   "source": [
    "dataset.download(local_path=data_info[\"out_dir\"])\n",
    "dataset.download_annotations(local_path=data_info[\"out_dir\"])"
   ]
  },
  {
   "cell_type": "code",
   "execution_count": null,
   "metadata": {},
   "outputs": [],
   "source": []
  }
 ],
 "metadata": {
  "kernelspec": {
   "display_name": "car_condition",
   "language": "python",
   "name": "python3"
  },
  "language_info": {
   "codemirror_mode": {
    "name": "ipython",
    "version": 3
   },
   "file_extension": ".py",
   "mimetype": "text/x-python",
   "name": "python",
   "nbconvert_exporter": "python",
   "pygments_lexer": "ipython3",
   "version": "3.9.13"
  },
  "orig_nbformat": 4
 },
 "nbformat": 4,
 "nbformat_minor": 2
}
